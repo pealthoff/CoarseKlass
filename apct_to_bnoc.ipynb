{
 "cells": [
  {
   "cell_type": "markdown",
   "source": [
    "Esse arquivo é apenas um auxiliador\n",
    "para transformar os dados do APCT (https://github.com/TianhangSun/PathSim-GNetMine)\n",
    "no modelo do bnoc\n",
    "\n",
    "\n",
    " # 1 - transformar os indices em lista unica\n",
    "\n",
    "para isso vou somar um offset do tamanho dos nós já existentes\n",
    "- novo_indice(A) = indice(A)\n",
    "- novo indice(P) = indice(P) + |A| = indice(P) + 14475\n",
    "- novo indice(C) = indice(C) + |A| + |P| = indice(P) + 28851\n",
    "- novo indice(T) = indice(T) + |A| + |P| + |C| = indice(P) + 28871"
   ],
   "metadata": {
    "id": "E6riXEFOtGSR"
   }
  },
  {
   "cell_type": "code",
   "execution_count": 5,
   "outputs": [],
   "source": [
    "vertices = [14475, 14376, 20, 8920]\n",
    "offset = [sum(vertices[0: i]) for i in range(4)]"
   ],
   "metadata": {
    "pycharm": {
     "name": "#%%\n"
    },
    "id": "GrBtIDRhGZ-k",
    "executionInfo": {
     "status": "ok",
     "timestamp": 1642871902739,
     "user_tz": 180,
     "elapsed": 277,
     "user": {
      "displayName": "Paulo Eduardo Althoff",
      "photoUrl": "https://lh3.googleusercontent.com/a/default-user=s64",
      "userId": "16824531154772251179"
     }
    }
   }
  },
  {
   "cell_type": "code",
   "source": [
    "from google.colab import drive\n",
    "drive.mount('/content/drive')"
   ],
   "metadata": {
    "colab": {
     "base_uri": "https://localhost:8080/"
    },
    "id": "2aKNRhJsuU5a",
    "executionInfo": {
     "status": "ok",
     "timestamp": 1642871819752,
     "user_tz": 180,
     "elapsed": 20087,
     "user": {
      "displayName": "Paulo Eduardo Althoff",
      "photoUrl": "https://lh3.googleusercontent.com/a/default-user=s64",
      "userId": "16824531154772251179"
     }
    },
    "outputId": "435938e0-b8b5-4331-fc7a-13997918d7e1"
   },
   "execution_count": 1,
   "outputs": [
    {
     "output_type": "stream",
     "name": "stdout",
     "text": [
      "Mounted at /content/drive\n"
     ]
    }
   ]
  },
  {
   "cell_type": "code",
   "source": [
    "on_google_colab = True\n",
    "\n",
    "if on_google_colab:\n",
    "    HOME='/content/drive/MyDrive/mestrado/cmk/'\n",
    "else:\n",
    "    HOME='.'"
   ],
   "metadata": {
    "id": "XajGBvXmuGP3",
    "executionInfo": {
     "status": "ok",
     "timestamp": 1642871826919,
     "user_tz": 180,
     "elapsed": 397,
     "user": {
      "displayName": "Paulo Eduardo Althoff",
      "photoUrl": "https://lh3.googleusercontent.com/a/default-user=s64",
      "userId": "16824531154772251179"
     }
    }
   },
   "execution_count": 3,
   "outputs": []
  },
  {
   "cell_type": "markdown",
   "source": [
    "Primeiro passo vai ser transformar os aequivos de labels, que estao separados por partição no apct, em cada linha há 2 dados, o id do nó, e o id de sua label\n",
    "No modelo do bnoc, consta só a informação de label por linha, sendo o numero da linha o id, como os nós estão ordenados nos arquivos do apct, basta adicionar os labels na ordem para seguir a logica dos novos indices"
   ],
   "metadata": {
    "id": "berpC4IiuINv"
   }
  },
  {
   "cell_type": "code",
   "execution_count": null,
   "metadata": {
    "pycharm": {
     "name": "#%%\n"
    },
    "id": "rT5m2JQptuno"
   },
   "outputs": [],
   "source": [
    "author, paper, conf, term = {}, {}, {}, {}\n",
    "\n",
    "with open(f'{HOME}data/author_label.txt', \"r\") as f1:\n",
    "    for line in f1:\n",
    "        a, l = [int(i) for i in line.split()]\n",
    "        author[a] = l\n",
    "with open(f'{HOME}data/paper_label.txt', \"r\") as f2:\n",
    "    for line in f2:\n",
    "        p, l = [int(i) for i in line.split()]\n",
    "        paper[p] = l\n",
    "with open(f'{HOME}data/conf_label.txt', \"r\") as f3:\n",
    "    for line in f3:\n",
    "        c, l = [int(i) for i in line.split()]\n",
    "        conf[c] = l\n",
    "\n",
    "##############################\n",
    "\n",
    "with open(f'{HOME}/input/APCT.membership', \"w\") as f:\n",
    "    for a in range(14475):\n",
    "        if a+1 in author:\n",
    "            f.write(str(author[a+1])+'\\n')\n",
    "        else:\n",
    "            f.write('None\\n')\n",
    "    for p in range(14376):\n",
    "        if p+1 in paper:\n",
    "            f.write(str(paper[p+1])+'\\n')\n",
    "        else:\n",
    "            f.write('None\\n')\n",
    "    for c in range(20):\n",
    "        if c+1 in conf:\n",
    "            f.write(str(conf[c+1])+'\\n')\n",
    "        else:\n",
    "            f.write('None\\n')\n",
    "    for t in range(8920):\n",
    "        if t+1 in term:\n",
    "            f.write(str(term[t+1])+'\\n')\n",
    "        else:\n",
    "            f.write('None\\n')\n",
    "# def get_num(filename):\n",
    "#     out = []\n",
    "#     with open(filename, \"r\") as f:\n",
    "#         for line in f:\n",
    "#             out.append(int(line))\n",
    "#     return out\n",
    "#\n",
    "#\n",
    "# train_author = get_num(\"./data/trainId_author.txt\")\n",
    "# train_paper = get_num(\"./data/trainId_paper.txt\")\n",
    "# test_author = get_num(\"./data/testId_author.txt\")\n",
    "# test_paper = get_num(\"./data/testId_paper.txt\")"
   ]
  },
  {
   "cell_type": "code",
   "execution_count": 6,
   "metadata": {
    "pycharm": {
     "name": "#%%\n"
    },
    "id": "aajqBZBgtunv",
    "executionInfo": {
     "status": "ok",
     "timestamp": 1642871907067,
     "user_tz": 180,
     "elapsed": 1282,
     "user": {
      "displayName": "Paulo Eduardo Althoff",
      "photoUrl": "https://lh3.googleusercontent.com/a/default-user=s64",
      "userId": "16824531154772251179"
     }
    }
   },
   "outputs": [],
   "source": [
    "with open(f'{HOME}/input/APCT.ncol', \"w\") as ncol:\n",
    "    with open(f'{HOME}data/PA.txt', \"r\") as f:\n",
    "        for line in f:\n",
    "            l1, l2, l3 = [int(i) for i in line.split()]\n",
    "            ncol.write(f'{str(l1+offset[1]-1)}\\t{str(l2+offset[0]-1)}\\t{l3}\\n')\n",
    "    with open(f'{HOME}data/PC.txt', \"r\") as f:\n",
    "        for line in f:\n",
    "            l1, l2, l3 = [int(i) for i in line.split()]\n",
    "            ncol.write(f'{str(l1+offset[1]-1)}\\t{str(l2+offset[2]-1)}\\t{l3}\\n')\n",
    "    with open(f'{HOME}data/PT.txt', \"r\") as f:\n",
    "        for line in f:\n",
    "            l1, l2, l3 = [int(i) for i in line.split()]\n",
    "            ncol.write(f'{str(l1+offset[1]-1)}\\t{str(l2+offset[3]-1)}\\t{l3}\\n')\n"
   ]
  },
  {
   "cell_type": "code",
   "source": [
    ""
   ],
   "metadata": {
    "id": "LO-rCAO-yGxh"
   },
   "execution_count": null,
   "outputs": []
  },
  {
   "cell_type": "markdown",
   "source": [
    "Nos ncol gerados pelo bnoc, o indice que aparece é iniciado por \"0\", "
   ],
   "metadata": {
    "id": "-iS82rlxyIsc"
   }
  }
 ],
 "metadata": {
  "kernelspec": {
   "display_name": "PyCharm (cmk)",
   "language": "python",
   "name": "pycharm-8130b48"
  },
  "language_info": {
   "codemirror_mode": {
    "name": "ipython",
    "version": 3
   },
   "file_extension": ".py",
   "mimetype": "text/x-python",
   "name": "python",
   "nbconvert_exporter": "python",
   "pygments_lexer": "ipython3",
   "version": "3.8.8"
  },
  "colab": {
   "name": "apct_to_bnoc.ipynb",
   "provenance": [],
   "collapsed_sections": []
  }
 },
 "nbformat": 4,
 "nbformat_minor": 0
}